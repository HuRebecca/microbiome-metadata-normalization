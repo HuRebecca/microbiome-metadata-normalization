{
 "cells": [
  {
   "cell_type": "markdown",
   "metadata": {},
   "source": [
    "# Qiita Skin Metadata Normalization \n",
    "#### by Rebecca Hu\n",
    "rows:  22772 cols:  1094\n",
    "### Added column headers include:\n",
    "qiita_host_age - normalized age in years\n",
    "<br> qiita_host_age_units - 'years' repeated in all rows\n",
    "<br> qiita_host_sex - normalized sex as 'male' or 'female'\n",
    "<br> qiita_host_ethnicity_white - True if the host identifies as white, False or Nan otherwise\n",
    "<br> qiita_host_ethnicity_black_or_african_american - True if the host identifies as black or African American, False or Nan otherwise\n",
    "<br> qiita_host_ethnicity_hispanic_or_latino - True if the host identifies as hispanic or latino, False or Nan otherwise\n",
    "<br> qiita_host_ethnicity_asian - True if the host identifies as asian, False or Nan otherwise\n",
    "<br> qiita_host_ethnicity_american_indian_or_alaska_native - True if the host identifies as Native American, False or Nan otherwise\n",
    "<br> qiita_host_ethnicity_native_hawaiian_or_other_pacific_islander - True if the host identifies as native Hawaiian or Pacific Islander, False or Nan otherwise\n",
    "<br> qiita_host_ethnicity_other - True if host specified 'other' as ethnicity/race, False or Nan otherwise\n",
    "<br> qiita_host_ethnicity_multiracial - True if host specified 'multi' or eqivalent as ethnicity/race, False or Nan otherwise\n",
    "<br> qiita_host_multiracial - True if host specified multiple ethinicies/races, False or Nan otherwise\n",
    "<br> qiita_host_ethnicity_combined - string values, most specific host race/ethinicity e.g. 'Japanese-Caucasian'\n",
    "<br> qiita_host_weight - normalized & cleaned weight in kg\n",
    "<br> qiita_host_weight_units - 'kg' repeated in all rows\n",
    "<br> qiita_host_height - normalized and cleaned weight in cm\n",
    "<br> qiita_host_height_units - 'cm' repeated in all rows\n",
    "<br> qiita_host_bmi - float values, normalized host bmi\n",
    "<br> qiita_host_healthy_weight - True if host falls under healthy weight category, False or Nan otherwise\n",
    "<br> qiita_host_allergy - True if host has any allergies in allergy dictionaries, False or Nan otherwise\n",
    "<br> qiita_host_cancer - True if host has any cancer in cancer dictionary, False or Nan otherwise\n",
    "<br> qiita_host_ibd - True if host has inflammatory bowel disease, False or Nan otherwise\n",
    "<br> qiita_host_ibd_type - 'cd' if host has Crohn's Disease, 'uc' if host has ulcerative colitis, 'not specified' if host has ibd but does not specify what kind, 'not applicable' if host does not have ibd\n",
    "<br> qiita_host_diabetes - True if host has diabetes, False otherwise\n",
    "<br> qiita_host_diabetes_subtype - 'type1' if host has Type I diabetes, 'type2' is host has Type II diabetes, 'not specified' if host has diabetes but does not specify what kind, 'not applicable' if host does not have diabetes\n",
    "<br> qiita_host_disease - True if host has a miscellaneous disease in disease dictionary, False otherwise\n",
    "<br> qiita_host_medication - True if host reported taking any medications, False otherwise\n",
    "<br> qiita_host_healthy - False if host has any disease, allergy, or uses medication, True otherwise\n",
    "#### Static Columns\n",
    "qiita_sample_type - 'skin' repeated in all rows\n",
    "<br> qiita_empo_1 - 'host-associated' repeated in all rows\n",
    "<br> qiita_empo_2 - 'animal' repeated in all rows\n",
    "<br> qiita_empo_3 - 'animal surface' repeated in all rows\n",
    "<br> qiita_host_scientific_name - 'Homo sapiens' repeated in all rows\n",
    "<br> qiita_host_taxid - 9606 repeated in all rows\n",
    "<br> qiita_host_common_name - 'human' repeated in all rows\n",
    "<br> qiita_env_feature - 'human-associated habitat' repeated in all rows"
   ]
  },
  {
   "cell_type": "code",
   "execution_count": 1,
   "metadata": {},
   "outputs": [],
   "source": [
    "import pandas as pd\n",
    "import numpy as np\n",
    "import math"
   ]
  },
  {
   "cell_type": "markdown",
   "metadata": {},
   "source": [
    "# Import CSV"
   ]
  },
  {
   "cell_type": "code",
   "execution_count": 2,
   "metadata": {},
   "outputs": [],
   "source": [
    "#normalizes all true and false values to bool and all null values to nan\n",
    "def clean_csv(file):\n",
    "    df = pd.read_csv(file,header=0, sep ='\\t', decimal = ',',\n",
    "            true_values =['true','yes','y','Yes','Y','YES', 'Self-diagnosed', 'Diagnosed by a medical professional (doctor, physician assistant)'],\n",
    "            false_values=['false','no','n','No','N','NO', 'I do not have this condition'],\n",
    "            na_values=['Unknown','Unspecified','no_data','not applicable', 'Not applicable' ,'Missing: not collected', 'Missing: not provided',\n",
    "                      'Missing: Not recorded', 'Missing: Restricted access' , 'Missing', 'Not provided', 'unspecified'],\n",
    "            low_memory= False\n",
    "            )\n",
    "    return df"
   ]
  },
  {
   "cell_type": "code",
   "execution_count": 3,
   "metadata": {},
   "outputs": [
    {
     "name": "stdout",
     "output_type": "stream",
     "text": [
      "rows:  7386 cols:  979\n"
     ]
    }
   ],
   "source": [
    "#Read Skin Metadata file\n",
    "df = clean_csv('20190223_all_human_skin_metadata.txt')\n",
    "num_row = df.shape[0]\n",
    "num_col = df.shape[1]\n",
    "print('rows: ', num_row, 'cols: ', num_col)"
   ]
  },
  {
   "cell_type": "markdown",
   "metadata": {},
   "source": [
    "# Normalize Age"
   ]
  },
  {
   "cell_type": "code",
   "execution_count": 8,
   "metadata": {},
   "outputs": [],
   "source": [
    "#function to normalize ages and compile them into a list\n",
    "def normalize_age(df):\n",
    "    '''\n",
    "    normalize age columns into years and compile them into a Series\n",
    "    \n",
    "    param: DataFrame containing all different age columns\n",
    "    return: a Series containing all normalized age values\n",
    "    '''\n",
    "    age_list = []\n",
    "    for row in range(0, num_row):\n",
    "        \n",
    "        if not math.isnan(float(df.iloc[row]['age'])):\n",
    "            \n",
    "            if df.iloc[row]['age_unit'] == 'years' or  df.iloc[row]['age_units'] == 'years':\n",
    "                age_list.append(round(float(df.iloc[row]['age']), 3))\n",
    "                \n",
    "            elif df.iloc[row]['age_unit'] == 'weeks' or  df.iloc[row]['age_units'] == 'weeks':\n",
    "                normalized_age = float(df.iloc[row]['age']) / 52\n",
    "                age_list.append(round(normalized_age, 3))\n",
    "                \n",
    "            elif df.iloc[row]['age_unit'] == 'days' or  df.iloc[row]['age_units'] == 'days':\n",
    "                normalized_age = float(df.iloc[row]['age']) / 365\n",
    "                age_list.append(round(normalized_age, 3))\n",
    "                \n",
    "            elif df.iloc[row]['age_unit'] == 'minutes' or  df.iloc[row]['age_units'] == 'minutes':\n",
    "                normalized_age = float(df.iloc[row]['age']) / 525600\n",
    "                age_list.append(round(normalized_age, 3))\n",
    "                \n",
    "            else:\n",
    "                age_list.append(float('Nan'))\n",
    "                \n",
    "        elif not math.isnan(float(df.iloc[row]['age_baby_days'])):\n",
    "            normalized_age = float(df.iloc[row]['age_baby_days']) / 365\n",
    "            age_list.append(round(normalized_age, 3))\n",
    "            \n",
    "        elif not math.isnan(float(df.iloc[row]['age_corrected'])):\n",
    "            age_list.append(round(float(df.iloc[row]['age_corrected']), 3)) \n",
    "            \n",
    "        elif not math.isnan(float(df.iloc[row]['age_in_years'])):\n",
    "            age_list.append(round(float(df.iloc[row]['age_in_years']), 3))\n",
    "            \n",
    "        else:\n",
    "            age_list.append(float('Nan'))\n",
    "            \n",
    "    return pd.Series(age_list)"
   ]
  },
  {
   "cell_type": "code",
   "execution_count": 9,
   "metadata": {},
   "outputs": [],
   "source": [
    "#qiita_host_age column\n",
    "df['qiita_host_age']= normalize_age(df)"
   ]
  },
  {
   "cell_type": "code",
   "execution_count": 10,
   "metadata": {},
   "outputs": [
    {
     "name": "stdout",
     "output_type": "stream",
     "text": [
      "The history saving thread hit an unexpected error (OperationalError('database is locked',)).History will not be written to the database.\n"
     ]
    }
   ],
   "source": [
    "#qiita_host_age_units column\n",
    "age_units = ['years']\n",
    "age_units_list = [] \n",
    "\n",
    "for i in range(0, num_row):\n",
    "    age_units_list += age_units\n",
    "    \n",
    "df['qiita_host_age_units'] = pd.Series(age_units_list)"
   ]
  },
  {
   "cell_type": "markdown",
   "metadata": {},
   "source": [
    "# Normalize Sex"
   ]
  },
  {
   "cell_type": "code",
   "execution_count": 11,
   "metadata": {},
   "outputs": [],
   "source": [
    "#function to normalize sex\n",
    "def normalize_sex(df):\n",
    "    '''\n",
    "    normalizes sex and gender into 'male' or 'female'\n",
    "    \n",
    "    param: DataFrame containing all sex/gender columns\n",
    "    return: pd.Series containing all normalized sex \n",
    "    '''\n",
    "    sex_list = []\n",
    "    for row in range(0, num_row):\n",
    "        if df.iloc[row]['gender'] == 'male' or df.iloc[row]['gender'] == 'female':\n",
    "            sex_list.append(df.iloc[row]['gender'])\n",
    "        elif df.iloc[row]['sex'] == 'male' or df.iloc[row]['sex'] == 'female':\n",
    "            sex_list.append(df.iloc[row]['sex'])\n",
    "        else:\n",
    "            sex_list.append(float('Nan'))\n",
    "    return pd.Series(sex_list)"
   ]
  },
  {
   "cell_type": "code",
   "execution_count": 12,
   "metadata": {},
   "outputs": [],
   "source": [
    "#qiita_host_sex column\n",
    "df['qiita_host_sex'] = normalize_sex(df)"
   ]
  },
  {
   "cell_type": "markdown",
   "metadata": {},
   "source": [
    "# Normalize Ethnicity"
   ]
  },
  {
   "cell_type": "code",
   "execution_count": 13,
   "metadata": {},
   "outputs": [],
   "source": [
    "ethnicity_dict = {\n",
    "    'white': ['White', 'white' ,'Caucasian', 'caucasian'],\n",
    "    'black or african american': ['African', 'african', 'Black-African American'], \n",
    "    'hispanic or latino': ['Hispanic', 'hispanic', 'Latino', 'latino', 'Mestizo', 'Yanomami'], \n",
    "    'asian': ['Asian', 'asian', 'japanese'], \n",
    "    'american indian or alaska native': ['Amerindian'], \n",
    "    'native hawaiian or other pacific islander': ['pacific.islander', 'pacific islander', 'Pacific', 'hawaiian'],\n",
    "    'other': ['other', 'Other'],\n",
    "    'multi': ['multi', 'Multi', 'more', 'More']\n",
    "}    "
   ]
  },
  {
   "cell_type": "code",
   "execution_count": 14,
   "metadata": {},
   "outputs": [],
   "source": [
    "#function to normalize ethnicity\n",
    "def normalize_ethnicity(df, ethnicity):\n",
    "    '''\n",
    "    normalizes a particular ethnicity based on ethnicity dict above\n",
    "    \n",
    "    param: \n",
    "    - a DataFrame containing all ethnicity/race data\n",
    "    - a string ethnicity to normalize ('ethnicity' must be a key in the above ethnicity dict)\n",
    "    \n",
    "    return: pd.Series containing all normalized, boolean values for the given ethnicity\n",
    "    \n",
    "    '''\n",
    "    ethnicity_list = []\n",
    "    for row in range(0, num_row):\n",
    "        \n",
    "        if type(df.iloc[row]['race']) == str:\n",
    "            \n",
    "            #replace 'caucasian' with 'white'\n",
    "            curr = df.iloc[row]['race']\n",
    "            if curr == 'Caucasian' or curr == 'caucasian':\n",
    "                curr = 'white'\n",
    "                \n",
    "            for value in ethnicity_dict[ethnicity]:\n",
    "                if value in curr:\n",
    "                    ethnicity_list.append(True)\n",
    "                    break\n",
    "                elif value == ethnicity_dict[ethnicity][-1]:\n",
    "                    ethnicity_list.append(False)\n",
    "                    \n",
    "        elif type(df.iloc[row]['raceethnicity']) == str:\n",
    "            \n",
    "            curr = df.iloc[row]['raceethnicity']\n",
    "            if curr == 'Caucasian' or curr == 'caucasian':\n",
    "                curr = 'white'\n",
    "                \n",
    "            for value in ethnicity_dict[ethnicity]:\n",
    "                if value in curr:\n",
    "                    ethnicity_list.append(True)\n",
    "                    break\n",
    "                elif value == ethnicity_dict[ethnicity][-1]:\n",
    "                    ethnicity_list.append(False)\n",
    "                    \n",
    "        elif type(df.iloc[row]['ethnicity']) == str:\n",
    "            \n",
    "            curr = df.iloc[row]['ethnicity']\n",
    "            if curr == 'Caucasian' or curr == 'caucasian':\n",
    "                curr = 'white'\n",
    "                \n",
    "            for value in ethnicity_dict[ethnicity]:\n",
    "                if value in curr:\n",
    "                    ethnicity_list.append(True)\n",
    "                    break\n",
    "                elif value == ethnicity_dict[ethnicity][-1]:\n",
    "                    ethnicity_list.append(False)\n",
    "                    \n",
    "        elif type(df.iloc[row]['ethnic_group']) == str:\n",
    "            \n",
    "            curr = df.iloc[row]['ethnic_group']\n",
    "            if curr == 'Caucasian' or curr == 'caucasian':\n",
    "                curr = 'white'\n",
    "                \n",
    "            for value in ethnicity_dict[ethnicity]:\n",
    "                if value in curr:\n",
    "                    ethnicity_list.append(True)\n",
    "                    break\n",
    "                elif value == ethnicity_dict[ethnicity][-1]:\n",
    "                    ethnicity_list.append(False)\n",
    "                    \n",
    "        elif type(df.iloc[row]['ethnicgroup']) == str:\n",
    "            \n",
    "            #replace 'caucasian' with 'white'\n",
    "            curr = df.iloc[row]['ethnicgroup']\n",
    "            if curr == 'Caucasian' or curr == 'caucasian':\n",
    "                curr = 'white'\n",
    "                \n",
    "            for value in ethnicity_dict[ethnicity]:\n",
    "                if value in curr:\n",
    "                    ethnicity_list.append(True)\n",
    "                    break\n",
    "                elif value == ethnicity_dict[ethnicity][-1]:\n",
    "                    ethnicity_list.append(False)\n",
    "                    \n",
    "        else:\n",
    "            ethnicity_list.append(False)\n",
    "    return pd.Series(ethnicity_list)"
   ]
  },
  {
   "cell_type": "code",
   "execution_count": 15,
   "metadata": {},
   "outputs": [],
   "source": [
    "#qiita_host_ethnicity columns \n",
    "df['qiita_host_ethnicity_white'] = normalize_ethnicity(df, 'white')\n",
    "df['qiita_host_ethnicity_black_or_african_american'] = normalize_ethnicity(df, 'black or african american')\n",
    "df['qiita_host_ethnicity_hispanic_or_latino'] = normalize_ethnicity(df, 'hispanic or latino')\n",
    "df['qiita_host_ethnicity_asian'] = normalize_ethnicity(df, 'asian')\n",
    "df['qiita_host_ethnicity_american_indian_or_alaska_native'] = normalize_ethnicity(df, 'american indian or alaska native')\n",
    "df['qiita_host_ethnicity_native_hawaiian_or_other_pacific_islander'] = normalize_ethnicity(df, 'native hawaiian or other pacific islander')\n",
    "df['qiita_host_ethnicity_other'] = normalize_ethnicity(df, 'other')\n",
    "df['qiita_host_ethnicity_multiracial'] = normalize_ethnicity(df, 'multi')"
   ]
  },
  {
   "cell_type": "code",
   "execution_count": 16,
   "metadata": {},
   "outputs": [],
   "source": [
    "#function to determine multiracial \n",
    "def multiracial(df):\n",
    "    '''\n",
    "    looks at previously create qiita_host_ethnicity_[blank] columns to determine whether the host has reported multiple ethnicities/races\n",
    "    \n",
    "    param: DataFrame containing all race/ethnicity data\n",
    "    return: pd.Series containing boolean values of wether the host has multiple races/ethnicities reported\n",
    "    '''\n",
    "    ethnicity_columns = ['qiita_host_ethnicity_white', 'qiita_host_ethnicity_black_or_african_american',\\\n",
    "                         'qiita_host_ethnicity_hispanic_or_latino', 'qiita_host_ethnicity_asian',\\\n",
    "                         'qiita_host_ethnicity_american_indian_or_alaska_native',\\\n",
    "                         'qiita_host_ethnicity_native_hawaiian_or_other_pacific_islander',\\\n",
    "                         'qiita_host_ethnicity_multiracial']\n",
    "    multiracial_list = []\n",
    "    for row in range(0, num_row):\n",
    "        count = 0\n",
    "        for ethnicity in ethnicity_columns:\n",
    "            if df.iloc[row][ethnicity] == True:\n",
    "                count += 1\n",
    "        if count >= 2:\n",
    "            multiracial_list.append(True)\n",
    "        else:\n",
    "            multiracial_list.append(False)  \n",
    "    return pd.Series(multiracial_list)"
   ]
  },
  {
   "cell_type": "code",
   "execution_count": 17,
   "metadata": {},
   "outputs": [],
   "source": [
    "#qiita_host_multiracial column\n",
    "df['qiita_host_multiracial'] = multiracial(df)"
   ]
  },
  {
   "cell_type": "code",
   "execution_count": 18,
   "metadata": {},
   "outputs": [],
   "source": [
    "#function to clean ethnicity imputs\n",
    "def clean_ethnicity_inputs(entry):\n",
    "    '''\n",
    "    cleans the strings in ethnicity inputs \n",
    "    param: a string entry in an ethnicity column\n",
    "    returns: a normalized string\n",
    "    '''\n",
    "    entry = entry.replace('nA', 'n A')\n",
    "    entry = entry.lower()\n",
    "    entry = entry.replace('half.', '')\n",
    "    entry = entry.replace('.', ' ')\n",
    "    entry = entry.replace('black-', '')\n",
    "    entry = entry.replace('caucasian', 'white')\n",
    "    entry = entry.replace('mestizohispano', 'mestizo')   \n",
    "    entry = entry.replace('amerindian', 'american indian')\n",
    "    return entry   \n",
    "\n",
    "#functions to normalize ethnicity \n",
    "def combined_race(df):\n",
    "    '''\n",
    "    creates a column that has all reported host ethncity/races, cleaned but not normalized at all\n",
    "    eg.) black, japanese, mestizo\n",
    "    \n",
    "    param: dataframe\n",
    "    returns: a pd.Series with merged, but not currated with all ethnicities/races for the given host\n",
    "    '''\n",
    "    ethnicity_list = []\n",
    "    for row in range(0, num_row):\n",
    "        if type(df.iloc[row]['race']) == str:\n",
    "            ethnicity_list.append(clean_ethnicity_inputs(df.iloc[row]['race']))\n",
    "        elif type(df.iloc[row]['raceethnicity']) == str:\n",
    "            ethnicity_list.append(clean_ethnicity_inputs(df.iloc[row]['raceethnicity']))\n",
    "        elif type(df.iloc[row]['ethnicity']) == str:\n",
    "            ethnicity_list.append(clean_ethnicity_inputs(df.iloc[row]['ethnicity']))\n",
    "        elif type(df.iloc[row]['ethnic_group']) == str:\n",
    "            ethnicity_list.append(clean_ethnicity_inputs(df.iloc[row]['ethnic_group']))\n",
    "        elif type(df.iloc[row]['ethnicgroup']) == str:\n",
    "            ethnicity_list.append(clean_ethnicity_inputs(df.iloc[row]['ethnicgroup']))\n",
    "        else:\n",
    "            ethnicity_list.append(float('Nan'))\n",
    "    return pd.Series(ethnicity_list)"
   ]
  },
  {
   "cell_type": "code",
   "execution_count": 19,
   "metadata": {},
   "outputs": [],
   "source": [
    "#qiita_host_ethnicity column\n",
    "df['qiita_host_ethnicity_combined'] = combined_race(df)"
   ]
  },
  {
   "cell_type": "markdown",
   "metadata": {},
   "source": [
    "# Normalize Weight"
   ]
  },
  {
   "cell_type": "code",
   "execution_count": 20,
   "metadata": {},
   "outputs": [],
   "source": [
    "#function to correct weight in kg\n",
    "# Everyone should fall between 0.5kg and 200kg, adults should be at least 20kg\n",
    "def correct_weight(row, weight):\n",
    "    '''\n",
    "    cleans & normalizes weight inputs with specified bounds to kilograms\n",
    "    \n",
    "    param: the row of the host and the weight input\n",
    "    return: a cleaned and normalized weight value, or nan if the value is out of bounds\n",
    "    \n",
    "    '''\n",
    "    age = df.iloc[row]['qiita_host_age']\n",
    "    if weight < 0.5 or weight > 200:\n",
    "        return float('Nan')\n",
    "    if age >= 18:\n",
    "        if weight < 20:\n",
    "            return float('Nan')\n",
    "    else:\n",
    "        return round(float(weight), 3)\n",
    "    return round(float(weight), 3)\n",
    "\n",
    "#function to normalize weight 0.5kg to 200 kg\n",
    "def normalize_weight(df):\n",
    "    '''\n",
    "    imputes cleaned weight values into a pd.Series\n",
    "    \n",
    "    param: DataFrame\n",
    "    return: pd.Series of merged and cleaned values\n",
    "    '''\n",
    "    weight_list = []\n",
    "    for row in range(0, num_row):\n",
    "        if not math.isnan(float(df.iloc[row]['weight'])):\n",
    "            weight = correct_weight(row, float(df.iloc[row]['weight']))\n",
    "            weight_list.append(weight)\n",
    "        elif not math.isnan(float(df.iloc[row]['weight_kg'])):\n",
    "            weight = correct_weight(row, float(df.iloc[row]['weight_kg']))\n",
    "            weight_list.append(weight)\n",
    "        elif not math.isnan(float(df.iloc[row]['tot_mass'])):\n",
    "            weight = correct_weight(row, float(df.iloc[row]['tot_mass']))\n",
    "            weight_list.append(weight)\n",
    "        else:\n",
    "            weight_list.append(float('Nan'))\n",
    "    return pd.Series(weight_list)"
   ]
  },
  {
   "cell_type": "code",
   "execution_count": 21,
   "metadata": {},
   "outputs": [],
   "source": [
    "#qiita_host_weight column\n",
    "df['qiita_host_weight'] = normalize_weight(df)\n",
    "#df['qiita_host_weight'].isnull.value_counts()"
   ]
  },
  {
   "cell_type": "code",
   "execution_count": 22,
   "metadata": {},
   "outputs": [],
   "source": [
    "#qiita_host_weight_units column\n",
    "weight_units = ['kg']\n",
    "weight_units_list = []\n",
    "\n",
    "for i in range(0, num_row):\n",
    "    weight_units_list += weight_units\n",
    "    \n",
    "df['qiita_host_weight_units'] = pd.Series(weight_units_list)"
   ]
  },
  {
   "cell_type": "markdown",
   "metadata": {},
   "source": [
    "# Normalize Height"
   ]
  },
  {
   "cell_type": "code",
   "execution_count": 23,
   "metadata": {},
   "outputs": [],
   "source": [
    "#function to correct height in cm\n",
    "# Everyone should fall between 48cm and 210cm, adults should be at least 105cm\n",
    "def correct_height(row, height):\n",
    "    '''\n",
    "    cleans & normalizes height inputs with specified bounds to centimeters\n",
    "    \n",
    "    param: the row of the host and the height input\n",
    "    return: a cleaned and normalized height value, or nan if the value is out of bounds\n",
    "    \n",
    "    '''\n",
    "    age = df.iloc[row]['qiita_host_age']\n",
    "    if height < 48 or height > 210:\n",
    "        return float('Nan')\n",
    "    if age >= 18:\n",
    "        if height < 20:\n",
    "            return float('Nan')\n",
    "    else:\n",
    "        return round(float(height), 3)\n",
    "    return round(float(height), 3)\n",
    "\n",
    "#function to normalize height\n",
    "def normalize_height(df):\n",
    "    '''\n",
    "    imputes cleaned height values into a pd.Series\n",
    "    \n",
    "    param: DataFrame\n",
    "    return: pd.Series of merged and cleaned values\n",
    "    '''\n",
    "    height_list = []\n",
    "    for row in range(0, num_row):\n",
    "        if not math.isnan(float(df.iloc[row]['height'])): #all from study 11052\n",
    "            height = correct_height(row, float(df.iloc[row]['height']))\n",
    "            height_list.append(height)\n",
    "        elif not math.isnan(float(df.iloc[row]['height_cm'])): #all from AGP 10317\n",
    "            height = correct_height(row, float(df.iloc[row]['height_cm']))\n",
    "            height_list.append(height)\n",
    "        elif not math.isnan(float(df.iloc[row]['height_m'])): #all from 2010\n",
    "            height = correct_height(row, float(df.iloc[row]['height_m']) * 100)\n",
    "            height_list.append(height)\n",
    "        #elif not math.isnan(float(df.iloc[row]['height_or_length'])): #all from 2024 & 959\n",
    "            #height = correct_height(row, float(df.iloc[row]['height_or_length']) * 100)\n",
    "            #height_list.append(height)\n",
    "        else:\n",
    "            height_list.append(float('Nan'))\n",
    "    return pd.Series(height_list)"
   ]
  },
  {
   "cell_type": "code",
   "execution_count": 24,
   "metadata": {},
   "outputs": [],
   "source": [
    "#qiita_host_height column\n",
    "df['qiita_host_height'] = normalize_height(df)\n",
    "#df['qiita_host_height'].value_counts()"
   ]
  },
  {
   "cell_type": "code",
   "execution_count": 25,
   "metadata": {},
   "outputs": [],
   "source": [
    "#qiita_host_height_units column\n",
    "height_units = ['cm']\n",
    "height_units_list = []\n",
    "\n",
    "for i in range(0, num_row):\n",
    "    height_units_list += height_units\n",
    "    \n",
    "df['qiita_host_height_units'] = pd.Series(height_units_list)"
   ]
  },
  {
   "cell_type": "markdown",
   "metadata": {},
   "source": [
    "# Normalize BMI"
   ]
  },
  {
   "cell_type": "code",
   "execution_count": 26,
   "metadata": {},
   "outputs": [],
   "source": [
    "#function to normalize and calculate bmi\n",
    "#organizes bmi values and calculates it for samples with age > 18 w/o bmi\n",
    "#some samples only have bmi categories\n",
    "#corrects by making sure bmi is only between 12 & 42\n",
    "\n",
    "def correct_bmi(bmi):\n",
    "    '''\n",
    "    keeps values within specified BMI bounds\n",
    "    \n",
    "    param: a bmi value\n",
    "    return: a cleaned bmi value, or nan if value is not within bounds\n",
    "    '''\n",
    "    if bmi <= 42 and bmi >= 12:\n",
    "        return round(bmi, 3)\n",
    "    else:\n",
    "        return float('Nan')\n",
    "\n",
    "def normalize_bmi(df):\n",
    "    '''\n",
    "    creates a column of merged and cleaned BMI values\n",
    "    \n",
    "    param: dataframe\n",
    "    returns a series with merged and cleaned BMI values\n",
    "    '''\n",
    "    bmi_list = []\n",
    "    for row in range(0, num_row):\n",
    "        if not math.isnan(float(df.iloc[row]['body_mass_index'])):\n",
    "            curr = correct_bmi(float(df.iloc[row]['body_mass_index']))\n",
    "            bmi_list.append(curr)\n",
    "        elif not math.isnan(float(df.iloc[row]['bmi_corrected'])):\n",
    "            curr = correct_bmi(float(df.iloc[row]['bmi_corrected']))\n",
    "            bmi_list.append(curr)\n",
    "        elif not math.isnan(float(df.iloc[row]['bmi'])):\n",
    "            curr = correct_bmi(float(df.iloc[row]['bmi']))\n",
    "            bmi_list.append(curr)\n",
    "\n",
    "        #check if has age\n",
    "        elif not math.isnan(float(df.iloc[row]['age'])):\n",
    "            #check if >18\n",
    "            if df.iloc[row]['qiita_host_age'] >= 18:\n",
    "                #check if has height and weight\n",
    "                if not math.isnan(float(df.iloc[row]['qiita_host_height'])) \\\n",
    "                and not math.isnan(float(df.iloc[row]['qiita_host_weight'])):\n",
    "                    height = float(df.iloc[row]['qiita_host_height'])\n",
    "                    weight = float(df.iloc[row]['qiita_host_weight'])\n",
    "                    bmi = weight / ((height) ** 2)\n",
    "                    bmi_list.append(round(bmi, 3))\n",
    "                else:\n",
    "                    bmi_list.append(float('Nan'))\n",
    "            else:\n",
    "                bmi_list.append(float('Nan'))\n",
    "        else:\n",
    "            bmi_list.append(float('Nan'))\n",
    "    return pd.Series(bmi_list)"
   ]
  },
  {
   "cell_type": "code",
   "execution_count": 27,
   "metadata": {},
   "outputs": [],
   "source": [
    "#qiita_host_bmi\n",
    "df['qiita_host_bmi'] = normalize_bmi(df)"
   ]
  },
  {
   "cell_type": "markdown",
   "metadata": {},
   "source": [
    "# Normalize Healthy Weight"
   ]
  },
  {
   "cell_type": "code",
   "execution_count": 28,
   "metadata": {},
   "outputs": [],
   "source": [
    "#function to determine if weight is healthy\n",
    "#add to only check for bmi if age is >=18\n",
    "def healthy_weight(df):\n",
    "    '''\n",
    "    creates boolean values for hosts of healthy weight\n",
    "    \n",
    "    param: dataframe\n",
    "    returns: a column with boolean values, True if host falls within healthy bmi bounds, false otherwise\n",
    "    '''\n",
    "    healthy_weight_list = []\n",
    "    for row in range(0, num_row):\n",
    "        if float(df.iloc[row]['qiita_host_bmi']) >= 18.5 and float(df.iloc[row]['qiita_host_bmi']) <= 24.9:\n",
    "            healthy_weight_list.append(True)\n",
    "        elif float(df.iloc[row]['qiita_host_bmi']) < 18.5 or float(df.iloc[row]['qiita_host_bmi']) > 24.9:\n",
    "            healthy_weight_list.append(False)\n",
    "        else:\n",
    "            healthy_weight_list.append(float('Nan'))\n",
    "    return pd.Series(healthy_weight_list)"
   ]
  },
  {
   "cell_type": "code",
   "execution_count": 29,
   "metadata": {},
   "outputs": [],
   "source": [
    "#qiita_host_healthy_weight\n",
    "df['qiita_host_healthy_weight'] = healthy_weight(df) "
   ]
  },
  {
   "cell_type": "markdown",
   "metadata": {},
   "source": [
    "# Normalize Allergy"
   ]
  },
  {
   "cell_type": "code",
   "execution_count": 30,
   "metadata": {},
   "outputs": [],
   "source": [
    "bool_allergy_list = ['peanutallergy', 'shellfishallergy', 'treenutallergy', 'allergic_contact_dermatitis', \n",
    "        'allergic_rhinitis_', 'allergic_to_other', \n",
    "        'allergic_to_peanuts', 'allergic_to_shellfish', 'allergic_to_tree_nuts', 'allergic_to_unspecified', \n",
    "                     'beestingallergies', 'drugallergies', \n",
    "        'non_food_allergies_beestings', 'non_food_allergies_drug_eg_penicillin', 'non_food_allergies_pet_dander', \n",
    "        'non_food_allergies_poison_ivyoak', 'non_food_allergies_sun', 'non_food_allergies_unspecified',  \n",
    "        'poisonivyoakallergies', 'seasonal_allergies', 'seasonalallergies', 'sunallergies']\n",
    "str_allergy_list = ['allergy', 'otherallergies']"
   ]
  },
  {
   "cell_type": "code",
   "execution_count": 31,
   "metadata": {},
   "outputs": [],
   "source": [
    "#function for normalize allergies\n",
    "def normalize_allergy(df):\n",
    "    '''\n",
    "    creates a column normalizing allergies\n",
    "    \n",
    "    param: dataframe\n",
    "    returns: columns with boolean values, True if any allergies, false otherwise\n",
    "    '''\n",
    "    allergy_list = []\n",
    "    for row in range(0, num_row):\n",
    "        has_allergy = False\n",
    "        for allergy in bool_allergy_list:\n",
    "            if df.iloc[row][allergy] == False:\n",
    "                has_allergy = False\n",
    "            elif df.iloc[row][allergy] == True:\n",
    "                has_allergy = True\n",
    "                #if debug: print(allergy + ':' + str(df.iloc[row][allergy]))\n",
    "                break\n",
    "\n",
    "        if df.iloc[row]['allergic_to_i_have_no_food_allergies_that_i_know_of'] == False:\n",
    "            has_allergy = True                \n",
    "                \n",
    "        if has_allergy != True:\n",
    "            for str_allergy in str_allergy_list:\n",
    "                temp = df[str_allergy].fillna('not provided')\n",
    "                if temp[row] == 'no' or temp[row] == 'not provided':\n",
    "                    has_allergy = False\n",
    "                else:\n",
    "                    has_allergy = True\n",
    "                    break\n",
    "        allergy_list.append(has_allergy)\n",
    "    return pd.Series(allergy_list)"
   ]
  },
  {
   "cell_type": "code",
   "execution_count": 32,
   "metadata": {},
   "outputs": [],
   "source": [
    "#qiita_host_allergy\n",
    "df['qiita_host_allergy'] = normalize_allergy(df)"
   ]
  },
  {
   "cell_type": "markdown",
   "metadata": {},
   "source": [
    "# Normalize Cancer"
   ]
  },
  {
   "cell_type": "code",
   "execution_count": 33,
   "metadata": {},
   "outputs": [],
   "source": [
    "cancer_list = ['bladder_cancer', 'brain_cancer', 'breast_cancer', 'cancer',\n",
    "       'cervical_cancer', 'colon_cancer', 'melanoma', 'non_hodgkin_lymphoma',\n",
    "       'endometrial_cancer', 'kidney_cancer', 'lung_cancer', 'leukemia',\n",
    "       'non_melanoma_skin_cancer', 'ovarian_cancer', 'pancreatic_cancer',\n",
    "       'prostate_cancer', 'rectal_cancer', 'stomach_cancer', 'thyroid_cancer']"
   ]
  },
  {
   "cell_type": "code",
   "execution_count": 34,
   "metadata": {},
   "outputs": [],
   "source": [
    "#function to normalize cancer\n",
    "def normalize_cancer(df):\n",
    "    '''\n",
    "    creates a column normalizing cancer\n",
    "    \n",
    "    param: dataframe\n",
    "    returns: columns with boolean values, True if any cancers, false otherwise\n",
    "    '''\n",
    "    result_list = []\n",
    "    for row in range(0, num_row):\n",
    "        has_cancer = False\n",
    "        for cancer in cancer_list:\n",
    "            if df.iloc[row][cancer] == True:\n",
    "                has_cancer = True\n",
    "                break\n",
    "        result_list.append(has_cancer)\n",
    "    return pd.Series(result_list)"
   ]
  },
  {
   "cell_type": "code",
   "execution_count": 35,
   "metadata": {},
   "outputs": [],
   "source": [
    "#qiita_host_cancer column\n",
    "df['qiita_host_cancer'] = normalize_cancer(df)"
   ]
  },
  {
   "cell_type": "markdown",
   "metadata": {},
   "source": [
    "# Normalize IBD"
   ]
  },
  {
   "cell_type": "code",
   "execution_count": 36,
   "metadata": {},
   "outputs": [],
   "source": [
    "#do not include 'subset_ibd'\n",
    "ibd_dict = {'ibd': ['Colitis', 'Yes.IBS', 'Crohns', 'Diagnosed by a medical professional (doctor, physician assistant)'], \n",
    "            'ibd_diagnosis': ['Ulcerative colitis', \"Crohn's disease\"] , \n",
    "            'ibd_diagnosis_refined': ['Ulcerative colitis', \"Colonic Crohn's Disease\", 'Microcolitis'],\n",
    "           'ulcerative_colitis': [True],\n",
    "            'crohns_disease': [True]\n",
    "           }"
   ]
  },
  {
   "cell_type": "code",
   "execution_count": 37,
   "metadata": {},
   "outputs": [],
   "source": [
    "#function to normalize ibd\n",
    "def normalize_ibd(df):\n",
    "    '''\n",
    "    creates a column normalizing irritable bowel disease\n",
    "    \n",
    "    param: dataframe\n",
    "    returns: columns with boolean values, True if ibd, false otherwise\n",
    "    '''\n",
    "    ibd_list = []\n",
    "    for row in range(0, num_row):\n",
    "        has_ibd = False\n",
    "        for column in ibd_dict:\n",
    "            temp = df[column].fillna('not provided')\n",
    "            if temp[row] in ibd_dict[column]:\n",
    "                has_ibd = True\n",
    "                break\n",
    "        ibd_list.append(has_ibd)\n",
    "    return pd.Series(ibd_list)"
   ]
  },
  {
   "cell_type": "code",
   "execution_count": 38,
   "metadata": {},
   "outputs": [
    {
     "data": {
      "text/plain": [
       "False    22579\n",
       "True       193\n",
       "Name: qiita_host_ibd, dtype: int64"
      ]
     },
     "execution_count": 38,
     "metadata": {},
     "output_type": "execute_result"
    }
   ],
   "source": [
    "#qiita_host_ibd column\n",
    "df['qiita_host_ibd'] = normalize_ibd(df)\n",
    "df['qiita_host_ibd'].value_counts()"
   ]
  },
  {
   "cell_type": "code",
   "execution_count": 39,
   "metadata": {},
   "outputs": [
    {
     "name": "stdout",
     "output_type": "stream",
     "text": [
      "10\n",
      "1151\n"
     ]
    }
   ],
   "source": [
    "ibd_true_count = 0\n",
    "ibd_false_count = 0\n",
    "for row in range(0, num_row):\n",
    "    if df.iloc[row]['qiita_host_ibd'] == True:\n",
    "        if df.iloc[row]['qiita_study_id'] == 10317:\n",
    "            ibd_true_count += 1\n",
    "    else:\n",
    "        if df.iloc[row]['qiita_study_id'] == 10317:\n",
    "            ibd_false_count += 1\n",
    "print(ibd_true_count)\n",
    "print(ibd_false_count)"
   ]
  },
  {
   "cell_type": "code",
   "execution_count": 40,
   "metadata": {},
   "outputs": [],
   "source": [
    "#qiita_host_ibd_type\n",
    "def ibd_subtype(df):\n",
    "    '''\n",
    "    creates a column specifying ibd subtypes\n",
    "    \n",
    "    param: dataframe\n",
    "    return: a column specifying the specific types of ibd (uc, ic, not specified, or not applicable)\n",
    "    '''\n",
    "    subtypes = []\n",
    "    for row in range(0, num_row):\n",
    "        if df.iloc[row]['crohns_disease'] == True:\n",
    "            subtypes.append('cd')\n",
    "        elif df.iloc[row]['ulcerative_colitis'] == True:\n",
    "            subtypes.append('uc')\n",
    "        elif df.iloc[row]['ibd'] == 'Colitis':\n",
    "            subtypes.append('uc')\n",
    "        elif df.iloc[row]['ibd'] == 'Crohns':\n",
    "            subtypes.append('cd')\n",
    "        elif df.iloc[row]['ibd_diagnosis'] == 'Ulcerative colitis':\n",
    "            subtypes.append('uc')\n",
    "        elif df.iloc[row]['ibd_diagnosis'] == \"Crohn's disease\":\n",
    "            subtypes.append('cd')\n",
    "        elif df.iloc[row]['ibd_diagnosis_refined'] == 'Ulcerative colitis':\n",
    "            subtypes.append('uc')\n",
    "        elif df.iloc[row]['ibd_diagnosis_refined'] == \"Colonic Crohn's Disease\":\n",
    "            subtypes.append('cd')\n",
    "        elif df.iloc[row]['qiita_host_ibd'] == True:\n",
    "            subtypes.append('not specified')\n",
    "        else:\n",
    "            subtypes.append('not applicable')\n",
    "    return pd.Series(subtypes)"
   ]
  },
  {
   "cell_type": "code",
   "execution_count": 41,
   "metadata": {},
   "outputs": [
    {
     "data": {
      "text/plain": [
       "not applicable    22579\n",
       "uc                   97\n",
       "not specified        58\n",
       "cd                   38\n",
       "Name: qiita_host_ibd_type, dtype: int64"
      ]
     },
     "execution_count": 41,
     "metadata": {},
     "output_type": "execute_result"
    }
   ],
   "source": [
    "#qiita_host_ibd_type\n",
    "df['qiita_host_ibd_type'] = ibd_subtype(df)\n",
    "df['qiita_host_ibd_type'].value_counts()"
   ]
  },
  {
   "cell_type": "code",
   "execution_count": 42,
   "metadata": {},
   "outputs": [
    {
     "name": "stdout",
     "output_type": "stream",
     "text": [
      "not applicable:  1151\n",
      "not specified:  10\n",
      "uc:  0\n",
      "cd:  0\n"
     ]
    }
   ],
   "source": [
    "na_count = 0\n",
    "ns_count = 0\n",
    "uc_count = 0\n",
    "cd_count = 0\n",
    "for row in range(0, num_row):\n",
    "    if df.iloc[row]['qiita_host_ibd_type'] == 'not applicable':\n",
    "        if df.iloc[row]['qiita_study_id'] == 10317:\n",
    "            na_count += 1\n",
    "    elif df.iloc[row]['qiita_host_ibd_type'] == 'not specified':\n",
    "        if df.iloc[row]['qiita_study_id'] == 10317:\n",
    "            ns_count += 1\n",
    "    elif df.iloc[row]['qiita_host_ibd_type'] == 'uc':\n",
    "        if df.iloc[row]['qiita_study_id'] == 10317:\n",
    "            uc_count += 1\n",
    "    elif df.iloc[row]['qiita_host_ibd_type'] == 'cd':\n",
    "        if df.iloc[row]['qiita_study_id'] == 10317:\n",
    "            cd_count += 1\n",
    "print('not applicable: ', na_count)\n",
    "print('not specified: ', ns_count)\n",
    "print('uc: ', uc_count)\n",
    "print('cd: ', cd_count)"
   ]
  },
  {
   "cell_type": "markdown",
   "metadata": {},
   "source": [
    "# Normalize Diabetes"
   ]
  },
  {
   "cell_type": "code",
   "execution_count": 43,
   "metadata": {},
   "outputs": [],
   "source": [
    "#do not include 'subset_diabetes'\n",
    "diabetes_dict = {'diabetes' : ['yes.type.I', 'Diagnosed by a medical professional (doctor, physician assistant)', 'true'], \n",
    "                 'diabetes_mellitustype_1' : [True], \n",
    "                 'diabetes_mellitustype_2' : [True],\n",
    "                 'diabetes_type' : ['Type II diabetes']}"
   ]
  },
  {
   "cell_type": "code",
   "execution_count": 44,
   "metadata": {},
   "outputs": [],
   "source": [
    "#function to normalize diabetes\n",
    "def normalize_diabetes(df):\n",
    "    '''\n",
    "    creates a columns with boolean values for diabetes\n",
    "    \n",
    "    param: dataframe\n",
    "    return: column wtih boolean values, true if host has diabetes, false otherwise\n",
    "    '''\n",
    "    diabetes_list = []\n",
    "    for row in range(0, num_row):\n",
    "        has_diabetes = False\n",
    "        for column in diabetes_dict:\n",
    "            temp = df[column].fillna('not provided')\n",
    "            if temp[row] in diabetes_dict[column]:\n",
    "                has_diabetes = True\n",
    "                break\n",
    "        diabetes_list.append(has_diabetes)\n",
    "    return pd.Series(diabetes_list)"
   ]
  },
  {
   "cell_type": "code",
   "execution_count": 45,
   "metadata": {},
   "outputs": [
    {
     "data": {
      "text/plain": [
       "False    22675\n",
       "True        97\n",
       "Name: qiita_host_diabetes, dtype: int64"
      ]
     },
     "execution_count": 45,
     "metadata": {},
     "output_type": "execute_result"
    }
   ],
   "source": [
    "#qiita_host_diabetes column\n",
    "df['qiita_host_diabetes'] = normalize_diabetes(df)\n",
    "df['qiita_host_diabetes'].value_counts()"
   ]
  },
  {
   "cell_type": "code",
   "execution_count": 46,
   "metadata": {},
   "outputs": [
    {
     "name": "stdout",
     "output_type": "stream",
     "text": [
      "true: 19\n",
      "false:  1142\n"
     ]
    }
   ],
   "source": [
    "true_count = 0\n",
    "false_count = 0\n",
    "for row in range(0, num_row):\n",
    "    if df.iloc[row]['qiita_host_diabetes'] == True and df.iloc[row]['qiita_study_id'] == 10317:\n",
    "        true_count += 1\n",
    "    elif df.iloc[row]['qiita_host_diabetes'] == False and df.iloc[row]['qiita_study_id'] == 10317:\n",
    "        false_count += 1\n",
    "print('true:', true_count)\n",
    "print('false: ', false_count)"
   ]
  },
  {
   "cell_type": "code",
   "execution_count": 47,
   "metadata": {},
   "outputs": [],
   "source": [
    "#qiita_host_diabetes_subtype\n",
    "def diabetes_subtype(df):\n",
    "    '''\n",
    "    creates a column specifying types of diabetes\n",
    "    \n",
    "    param: dataframe\n",
    "    returns: a column with specific diabetes types (type1, type2, no type, not applicable)\n",
    "    '''\n",
    "    subtypes = []\n",
    "    for row in range(0, num_row):\n",
    "        if df.iloc[row]['diabetes_mellitustype_1'] == True:\n",
    "            subtypes.append('type1')\n",
    "        elif df.iloc[row]['diabetes_mellitustype_2'] == True:\n",
    "            subtypes.append('type2')\n",
    "        elif df.iloc[row]['diabetes'] == 'yes.type.I':\n",
    "            subtypes.append('type1')\n",
    "        elif df.iloc[row]['diabetes_type'] == 'Type II diabetes':\n",
    "            subtypes.append('type2')\n",
    "        elif df.iloc[row]['qiita_host_diabetes'] == True:\n",
    "            subtypes.append('no type')\n",
    "        else:\n",
    "            subtypes.append('not applicable')\n",
    "    return pd.Series(subtypes)"
   ]
  },
  {
   "cell_type": "code",
   "execution_count": 48,
   "metadata": {},
   "outputs": [
    {
     "data": {
      "text/plain": [
       "not applicable    22675\n",
       "type1                72\n",
       "type2                21\n",
       "no type               4\n",
       "Name: qiita_host_diabetes_subtype, dtype: int64"
      ]
     },
     "execution_count": 48,
     "metadata": {},
     "output_type": "execute_result"
    }
   ],
   "source": [
    "#qiita_host_diabetes_subtype\n",
    "df['qiita_host_diabetes_subtype'] = diabetes_subtype(df)\n",
    "df['qiita_host_diabetes_subtype'].value_counts()"
   ]
  },
  {
   "cell_type": "code",
   "execution_count": 49,
   "metadata": {},
   "outputs": [],
   "source": [
    "na_count = 0\n",
    "ns_count = 0\n",
    "count1 = 0\n",
    "count2 = 0\n",
    "for row in range(0, num_row):\n",
    "    if df.iloc[row]['qiita_host_diabetes_subtype'] == 'not applicable':\n",
    "        if df.iloc[row]['qiita_study_id'] == 10317:\n",
    "            na_count += 1\n",
    "    elif df.iloc[row]['qiita_host_diabetes_subtype'] == 'no type':\n",
    "        if df.iloc[row]['qiita_study_id'] == 10317:\n",
    "            ns_count += 1\n",
    "    elif df.iloc[row]['qiita_host_diabetes_subtype'] == 'type1':\n",
    "        if df.iloc[row]['qiita_study_id'] == 10317:\n",
    "            count1 += 1\n",
    "    elif df.iloc[row]['qiita_host_diabetes_subtype'] == 'type2':\n",
    "        if df.iloc[row]['qiita_study_id'] == 10317:\n",
    "            count2 += 1\n"
   ]
  },
  {
   "cell_type": "code",
   "execution_count": 50,
   "metadata": {},
   "outputs": [
    {
     "name": "stdout",
     "output_type": "stream",
     "text": [
      "not applicable:  1142\n",
      "not specified:  4\n",
      "type1:  0\n",
      "type2:  15\n"
     ]
    }
   ],
   "source": [
    "print('not applicable: ', na_count)\n",
    "print('not specified: ', ns_count)\n",
    "print('type1: ', count1)\n",
    "print('type2: ', count2)"
   ]
  },
  {
   "cell_type": "markdown",
   "metadata": {},
   "source": [
    "# Normalize Miscellaneous Diseases"
   ]
  },
  {
   "cell_type": "code",
   "execution_count": 51,
   "metadata": {},
   "outputs": [],
   "source": [
    "true_values =[True, 'true','yes','y','Yes','Y','YES', 'Diagnosed by a medical professional (doctor, physician assistant)']\n",
    "false_values = [False, 'no', 'none', 'NO', 'n', 'N', 'NONE', 'No', 'false', 'False', 'f', 'F']"
   ]
  },
  {
   "cell_type": "code",
   "execution_count": 52,
   "metadata": {},
   "outputs": [],
   "source": [
    "disease_dict = {'canker_sores_': true_values, 'cardiovascular_disease': [True], 'celiac_disease': [True],\n",
    "       'chronicliverdisease_cirrhosis': [True], 'chronicobstructivepulm_disease': [True],\n",
    "       'disease': ['sinusproblems_candida', 'asthma_allergictopepper', 'sinusproblems', 'asthma', 'asthma_dermatitis',\n",
    "                    'thyroidhealthproblems', 'allergictopenicillin_fibromyalgia'], \n",
    "       'fibrocystic_breast_disease': [True], 'footeczema': true_values,\n",
    "                'gastroesophagealreflux_disease': [True],\n",
    "       'graves_disease': [True], 'hirschsprungs_disease': [True], 'huntingtons_disease': [True],\n",
    "       'kawasaki_disease': [True], 'kidney_disease': [True], 'liver_disease': [True], 'lung_disease': [True],\n",
    "       'menieres_disease': [True], 'nonalcoholicfattyliver_disease': [True],\n",
    "       'osgood_schlatter_disease': [True], 'parkinsons_disease': [True], 'peyronies_disease': [True],\n",
    "       'polycystic_kidney_disease': [True], \n",
    "       'von_willebrand_disease': [True],\n",
    "       'acne': true_values, 'acute_kidney_failure': true_values, 'acute_liver_failure': true_values,\n",
    "       'age_related_cataract': true_values, 'age_related_hearing_loss': true_values, 'age_related_macular_degen': true_values,\n",
    "       'alopecia_areata': true_values, 'alzheimers': true_values, 'amyotrophic_lateral_sclerosis_': true_values, 'angina': true_values, \n",
    "       'aortic_aneurysm': true_values, 'appendicitis': true_values, 'asd': true_values, 'asthma': true_values, 'atherosclerosis': true_values, \n",
    "       'atrial_fibrillation': true_values, 'autoimmune_hemolytic_anemia': true_values, 'barretts_esophagus': true_values, \n",
    "       'bartholins_cyst': true_values, 'bells_palsy': true_values, 'cdiff': true_values, 'cdiff_positive_yn': true_values, 'chickenpox': true_values,\n",
    "       'chronic_bronchitis': true_values, 'chronic_kidney_failure': true_values, 'chronic_recurrent_tonsillitis': true_values,\n",
    "       'chronic_sinusitis': true_values, 'chronicliverdisease_cirrhosis': true_values, 'chronicobstructivepulm_disease': true_values,\n",
    "       'colon_polyps': true_values, 'congestive_heart_failure': true_values, 'cystic_fibrosis': true_values, 'dandruff': true_values, \n",
    "       'deep_vein_thrombosis': true_values, 'depression_bipolar_schizophrenia': true_values, 'dermatographia': true_values, \n",
    "       'dilated_cardiomyopathy':true_values, 'diverticulosis': true_values, 'eczema': true_values, 'emphysema': true_values, 'endometriosis': true_values, \n",
    "       'epilepsy': true_values, 'epilepsy_or_seizure_disorder': true_values, 'fibromyalgia': true_values, \n",
    "                'fungal_overgrowth': true_values,\n",
    "                'gallstones': true_values, \n",
    "       'gbs': true_values, 'gilbert_syndrome': true_values, 'hemochromatosis': true_values, 'hiv': true_values, \n",
    "       'irritable_bowel_syndrome_': true_values, 'mental_illness': true_values, 'mental_illness_type_anorexia_nervosa': true_values, \n",
    "       'mental_illness_type_bipolar_disorder': true_values, 'mental_illness_type_bulimia_nervosa': true_values, \n",
    "       'mental_illness_type_depression': true_values, 'mental_illness_type_ptsd_posttraumatic_stress_disorder': true_values, \n",
    "       'mental_illness_type_schizophrenia': true_values, 'mental_illness_type_substance_abuse': true_values,\n",
    "       'mental_illness_type_unspecified': true_values, 'long_qt_syndrome': true_values, 'malaria': true_values, 'ovarian_cysts': true_values, \n",
    "       'patientdied': true_values, 'polycystic_kidney_disease': true_values, 'polycystic_ovary_syndrome_': true_values, 'sickle_cell_anemia': true_values, \n",
    "       'sjogrens_syndrome_': true_values, 'urinary_tract_infection_': true_values, 'wolff_parkinson_white_syndrome': true_values\n",
    "               }"
   ]
  },
  {
   "cell_type": "code",
   "execution_count": 53,
   "metadata": {},
   "outputs": [],
   "source": [
    "#function to normalize disease\n",
    "def normalize_disease(df):\n",
    "    '''\n",
    "    creates a boolean column for general diseases\n",
    "    \n",
    "    param: dataframe\n",
    "    return: a column with True if any of the above specified columns are true, false otherwise\n",
    "    '''\n",
    "    disease_list = []\n",
    "    for row in range(0, num_row):\n",
    "        has_disease = False\n",
    "        for column in disease_dict:\n",
    "            temp = df[column].fillna('not provided')\n",
    "            if temp[row] in disease_dict[column]:\n",
    "                has_disease = True\n",
    "                break\n",
    "        disease_list.append(has_disease)\n",
    "    return pd.Series(disease_list)"
   ]
  },
  {
   "cell_type": "code",
   "execution_count": 54,
   "metadata": {},
   "outputs": [],
   "source": [
    "#qiita_host_disease column\n",
    "df['qiita_host_disease'] = normalize_disease(df)"
   ]
  },
  {
   "cell_type": "markdown",
   "metadata": {},
   "source": [
    "# Normalize Medication Use"
   ]
  },
  {
   "cell_type": "code",
   "execution_count": 55,
   "metadata": {},
   "outputs": [],
   "source": [
    "med_dict = {'antibiotic_disturbance': true_values,\n",
    "       'antibiotic_history': true_values, 'antibiotics': true_values, 'antibiotics_after_birth': true_values,\n",
    "       'antibiotics_at_birth': true_values, 'idantibioticdisturbance': true_values,\n",
    "       'sampleantibioticdisturbance': true_values, 'subset_antibiotic_history': false_values, 'acne_medication': true_values, \n",
    "        'acne_medication_otc': true_values, 'medication_drug': true_values,\n",
    "       'overthecounterfacialacne': true_values,\n",
    "        'prescriptionforfacialacne': true_values,\n",
    "       'other_medications': true_values, \n",
    "        'othermedication': ['yes.claritin.buproprion.citalopram','yes.ibuprofen.maxalt','yes.ibuprofen.hydrocodone',\n",
    "                            'yes.amitriptyline','yes.allergies','yes.hypercare.for.hyperhycrosis.excessive.sweating',\n",
    "                            'yes.lorazepan.Ativan.PRN','yes.zolmitriptan','yes.muscle.relaxants.Aleve',\n",
    "                            'yes.advil.tylenol.and.claritin.as.needed',\n",
    "                            'yes.sertraline.HCL.Zoloft.balsalazide.disodium.alprazolam.infliximab.ergocalciferol',\n",
    "                            'yes.take.zyrted.for.seasonal.allergies','yes.chronic.pain.control.Lyrica.and.Ultram.allegra',\n",
    "                            'yes.codeine.cough','yes.androgel.gabapentin.metrotropolol.calcium.blocker',\n",
    "                            'yes.acyclovir.usually.every.few.months.anti.viral','yes.celexa.sonata','yes.NSAIDs',\n",
    "                            'yes.zyrtec','yes.aderoll.ADD.medication.','yes.metformin.for.polycystic.ovarian.syndrom',\n",
    "                            'yes.fluoxetine.adderall.crestor','yes.insulin.novolog','yes.prozac.clonazepam.lamotrigine',\n",
    "                            'yes.ambien','yes.bupropion.hydrochloride','yes.paxil.humatrope','yes.levothyroxin.fluoxetine',\n",
    "                            'yes.baclaphin.naproxin.citalopram','yes.ferrous.sulfate.iron.pills.melatonin','yes.ibuprofen',\n",
    "                            'yes.cold','yes.vyvanase.dexadrine','yes.celexa'], \n",
    "        'drug_usage': ['Ibuprofen','TRUE','birth control','Prevacid','Claritin','Tums, Advil','Prilosec','Ortho Tri-cyclen Lo',\n",
    "                       'antacids','allergy medication','Advil, Lyrica','thyroid hormone','OrthoNovum','Lamictal, lithium carb',\n",
    "                       'Prilosec, Simuastatin, Diazide, Atenolol, Hydroxyzine, Claritan','Zantec, Tums, Zertec',\n",
    "                       'baby aspirin, Omerprazole, Isosorbride, Lisinopril, Lovastatin, Plavix, Altenolol, Klosnopin, Neurontin, Requip,Finasteride, Acyclovir, Xanax, Nitroglycercin',\n",
    "                       'Ambien','DayQuil','baby aspirin, Zantac','Klonopin, Prozac, Immipramine, Warfarin, Cozaar, Tenex, Calan','Cephalexin',\n",
    "                       'baby aspirin, beta-blockers, statins, ace inhibitors','Nuvaring','Fluocinonide cream (eczema)','colace','albuterol inhaler',\n",
    "                       'Lisinopril, Simvastatin, Hydrochilorol','Zicam, OrthoTriCyclinLo','Evista, Fosamax, Prilosec','Actonel','Aleve, Claritin',\n",
    "                       'Nasonex','Levothyroxine','Septra, Zofran, chemotherapy drugs','Equate, Azor, Hydrocholothiazide, aspirin, Nexium',\n",
    "                       'Advil, Benadryl','Gaviscon' ,'Benadryl','Tylenol, Oragel','baby aspirin, Lipitor, Diovan HCT','Advil','Propecia','Omeprazole'],\n",
    "       'medication_drug': ['ophthalmicerythromycin','Prenatals' ,'Prenatals_Iron' ,'Toradol','Percoset','Percocet' ,'Motrin' ,\n",
    "                           'Zantac_Intestinex_Vitamins','VitaminA_aloe','Tramadol' ,'Ancef' ,'VitaminC_Prenatals' ,\n",
    "                           'Tylenolwithcodeine_Prenatals','Demerol_Percoset' ,'Percoset_Prenatals','Percoset_Hematron_Pepsid',\n",
    "                           'Ampicillin_Pitocin_Demerol','Cataflam' ,'Pitocin','Cytotec_morphine','Iron' ,\n",
    "                           'Ancef_Bicitra_Synthroid','Cytotec','Ampicillin_Pitocin' ,'Motrin_Prenatals','Prenatalvitamins',\n",
    "                           'Ancef_Pitocin','Synthroid' ,'Keflex','Acetaminophen' ,'Sulphur_Heel','Clindamycin_Tamiflu',\n",
    "                           'Panadol_Prenatals','Mefoxin_Pitocin_Claritin','Zantac' ,'Flexeril','Pedialyte_Desitin',\n",
    "                           'VitaminA_DandC_calaminelotion','Keflex_Ancef_Prenatals','NA_Prenatals','VitaminAandD',\n",
    "                           'VitaminA_DandC']}"
   ]
  },
  {
   "cell_type": "code",
   "execution_count": 56,
   "metadata": {},
   "outputs": [],
   "source": [
    "#function to normalize medication use\n",
    "def normalize_medication(df):\n",
    "    '''\n",
    "    creates a boolean column for medication use\n",
    "    \n",
    "    param: a dataframe\n",
    "    return: a column of boolean values, True if host used medication, false otherwise\n",
    "    '''\n",
    "    med_list = []\n",
    "    for row in range(0, num_row):\n",
    "        med = False\n",
    "        for column in med_dict:\n",
    "            temp = df[column].fillna('not provided')\n",
    "            if temp[row] in med_dict[column]:\n",
    "                med = True\n",
    "                break\n",
    "        med_list.append(med)\n",
    "    return pd.Series(med_list)"
   ]
  },
  {
   "cell_type": "code",
   "execution_count": null,
   "metadata": {},
   "outputs": [],
   "source": [
    "#qiita_host_disease2 column\n",
    "df['qiita_host_medication'] = normalize_medication(df)"
   ]
  },
  {
   "cell_type": "markdown",
   "metadata": {},
   "source": [
    "# Normalize Host Health"
   ]
  },
  {
   "cell_type": "code",
   "execution_count": null,
   "metadata": {},
   "outputs": [],
   "source": [
    "disease_columns = ['qiita_host_disease', 'qiita_host_diabetes', 'qiita_host_ibd', 'qiita_host_cancer', 'qiita_host_allergy',\n",
    "                  'qiita_host_healthy_weight', 'qiita_host_medication']"
   ]
  },
  {
   "cell_type": "code",
   "execution_count": null,
   "metadata": {},
   "outputs": [],
   "source": [
    "#function to normalize healthy\n",
    "def normalize_healthy(df):\n",
    "    '''\n",
    "    creates a boolean column for a general \"healthy\" host\n",
    "    \n",
    "    param: a dataframe\n",
    "    return: a boolean column , true if host is healthy and false otherwise\n",
    "    '''\n",
    "    healthy_list = []\n",
    "    for row in range(0, num_row):\n",
    "        healthy = True\n",
    "        for disease in disease_columns:\n",
    "            if df.iloc[row][disease] == True:\n",
    "                healthy = False\n",
    "                break\n",
    "        healthy_list.append(healthy)\n",
    "    return pd.Series(healthy_list)"
   ]
  },
  {
   "cell_type": "code",
   "execution_count": null,
   "metadata": {},
   "outputs": [],
   "source": [
    "#qiita_host_healthy\n",
    "df['qiita_host_healthy'] = normalize_healthy(df)"
   ]
  },
  {
   "cell_type": "markdown",
   "metadata": {},
   "source": [
    "# Static columns"
   ]
  },
  {
   "cell_type": "code",
   "execution_count": null,
   "metadata": {},
   "outputs": [],
   "source": [
    "#qiita_sample_type column\n",
    "sample_type = ['skin']\n",
    "sample_type_list = []\n",
    "\n",
    "for i in range(0, num_row):\n",
    "    sample_type_list += sample_type\n",
    "    \n",
    "df['qiita_host_sample_type'] = pd.Series(sample_type_list)"
   ]
  },
  {
   "cell_type": "code",
   "execution_count": null,
   "metadata": {},
   "outputs": [],
   "source": [
    "#qiita_empo_1 column \n",
    "empo_1 = ['host_associated']\n",
    "empo_1_list = []\n",
    "\n",
    "for i in range(0, num_row):\n",
    "    empo_1_list += empo_1\n",
    "    \n",
    "df['qiita_empo_1'] = pd.Series(empo_1_list)"
   ]
  },
  {
   "cell_type": "code",
   "execution_count": null,
   "metadata": {},
   "outputs": [],
   "source": [
    "#qiita_empo_2 column \n",
    "empo_2 = ['animal']\n",
    "empo_2_list = []\n",
    "\n",
    "for i in range(0, num_row):\n",
    "    empo_2_list += empo_2\n",
    "    \n",
    "df['qiita_empo_2'] = pd.Series(empo_2_list)"
   ]
  },
  {
   "cell_type": "code",
   "execution_count": null,
   "metadata": {},
   "outputs": [],
   "source": [
    "#qiita_empo_3 column \n",
    "empo_3 = ['animal surface']\n",
    "empo_3_list = []\n",
    "\n",
    "for i in range(0, num_row):\n",
    "    empo_3_list += empo_3\n",
    "    \n",
    "df['qiita_empo_3'] = pd.Series(empo_3_list)"
   ]
  },
  {
   "cell_type": "code",
   "execution_count": null,
   "metadata": {},
   "outputs": [],
   "source": [
    "#qiita_host_scientific_name column \n",
    "scientific_name = ['Homo sapiens']\n",
    "scientific_name_list = []\n",
    "\n",
    "for i in range(0, num_row):\n",
    "    scientific_name_list += scientific_name\n",
    "    \n",
    "df['qiita_host_scientific_name'] = pd.Series(scientific_name_list)"
   ]
  },
  {
   "cell_type": "code",
   "execution_count": null,
   "metadata": {},
   "outputs": [],
   "source": [
    "#qiita_host_taxid column \n",
    "taxid = [9606]\n",
    "taxid_list = []\n",
    "\n",
    "for i in range(0, num_row):\n",
    "    taxid_list += taxid\n",
    "    \n",
    "df['qiita_host_taxid'] = pd.Series(taxid_list)"
   ]
  },
  {
   "cell_type": "code",
   "execution_count": null,
   "metadata": {},
   "outputs": [],
   "source": [
    "#qiita_host_common_name column\n",
    "common_name = ['human']\n",
    "common_name_list = []\n",
    "\n",
    "for i in range(0, num_row):\n",
    "    common_name_list += common_name\n",
    "    \n",
    "df['qiita_host_common_name'] = pd.Series(common_name_list)"
   ]
  },
  {
   "cell_type": "code",
   "execution_count": null,
   "metadata": {},
   "outputs": [],
   "source": [
    "#qiita_env_feature column\n",
    "env_feature = ['human-associated habitat']\n",
    "env_feature_list = []\n",
    "\n",
    "for i in range(0, num_row):\n",
    "    env_feature_list += env_feature\n",
    "    \n",
    "df['qiita_env_feature'] = pd.Series(env_feature_list)"
   ]
  },
  {
   "cell_type": "markdown",
   "metadata": {},
   "source": [
    "# Write to CSV"
   ]
  },
  {
   "cell_type": "code",
   "execution_count": null,
   "metadata": {},
   "outputs": [],
   "source": [
    "df.set_index('#SampleID')"
   ]
  },
  {
   "cell_type": "code",
   "execution_count": null,
   "metadata": {},
   "outputs": [],
   "source": [
    "df.to_csv('skin_02_07_19.tsv', sep = '\\t', na_rep = 'not provided', index = False)\n",
    "df.to_csv('skin_02_07_19.csv', sep = ',', na_rep = 'not provided', index = False)"
   ]
  },
  {
   "cell_type": "code",
   "execution_count": null,
   "metadata": {},
   "outputs": [],
   "source": []
  }
 ],
 "metadata": {
  "kernelspec": {
   "display_name": "Python 3",
   "language": "python",
   "name": "python3"
  },
  "language_info": {
   "codemirror_mode": {
    "name": "ipython",
    "version": 3
   },
   "file_extension": ".py",
   "mimetype": "text/x-python",
   "name": "python",
   "nbconvert_exporter": "python",
   "pygments_lexer": "ipython3",
   "version": "3.5.5"
  }
 },
 "nbformat": 4,
 "nbformat_minor": 2
}
